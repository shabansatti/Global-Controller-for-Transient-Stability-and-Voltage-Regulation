{
  "nbformat": 4,
  "nbformat_minor": 0,
  "metadata": {
    "colab": {
      "provenance": [],
      "authorship_tag": "ABX9TyMdsm86vQTRPVlxw6xN7dPv",
      "include_colab_link": true
    },
    "kernelspec": {
      "name": "python3",
      "display_name": "Python 3"
    },
    "language_info": {
      "name": "python"
    }
  },
  "cells": [
    {
      "cell_type": "markdown",
      "metadata": {
        "id": "view-in-github",
        "colab_type": "text"
      },
      "source": [
        "<a href=\"https://colab.research.google.com/github/shabansatti/Global-Controller-for-Transient-Stability-and-Voltage-Regulation/blob/V2---Transient-Controller-through-Ricatti/Voltage_(Global)_Controller.ipynb\" target=\"_parent\"><img src=\"https://colab.research.google.com/assets/colab-badge.svg\" alt=\"Open In Colab\"/></a>"
      ]
    },
    {
      "cell_type": "code",
      "source": [
        "!pip install control\n",
        "from math import *\n",
        "import numpy as np\n",
        "\n",
        "import control.matlab as mat\n",
        "xd_t = 0.657;\n",
        "xT = 0.127;\n",
        "xL = 0.24265 * 2;\n",
        "xds_t = xd_t + xT + xL/2;\n",
        "angle_min = 10 * 3.14159 / 180 ;\n",
        "angle_max = 130 * 3.14159 / 180 ;\n",
        "Vt_min = 0.8;\n",
        "Vt_max = 1.1;\n",
        "Pe_min = 0.05;\n",
        "Pe_max = 1.2;\n",
        "xs = xT + xL/2;\n",
        "Vs = 1.3965;\n",
        "Vt = 1;\n",
        "R=1;\n",
        "w0=1;\n",
        "Td0_t = 6.9;\n",
        "Q  = np.array ([[500, 0,0], [0, 100, 0], [0, 0, 20]]);\n"
      ],
      "metadata": {
        "colab": {
          "base_uri": "https://localhost:8080/"
        },
        "id": "XGLShnJ5ZOfg",
        "outputId": "74fde72e-3b6d-4a32-c6c1-476b2a224baa"
      },
      "execution_count": 1,
      "outputs": [
        {
          "output_type": "stream",
          "name": "stdout",
          "text": [
            "Collecting control\n",
            "  Downloading control-0.9.4-py3-none-any.whl (455 kB)\n",
            "\u001b[?25l     \u001b[90m━━━━━━━━━━━━━━━━━━━━━━━━━━━━━━━━━━━━━━━━\u001b[0m \u001b[32m0.0/455.1 kB\u001b[0m \u001b[31m?\u001b[0m eta \u001b[36m-:--:--\u001b[0m\r\u001b[2K     \u001b[91m━━━━━━━━━━━━━━━━━━━━━\u001b[0m\u001b[91m╸\u001b[0m\u001b[90m━━━━━━━━━━━━━━━━━\u001b[0m \u001b[32m256.0/455.1 kB\u001b[0m \u001b[31m7.9 MB/s\u001b[0m eta \u001b[36m0:00:01\u001b[0m\r\u001b[2K     \u001b[90m━━━━━━━━━━━━━━━━━━━━━━━━━━━━━━━━━━━━━━━\u001b[0m \u001b[32m455.1/455.1 kB\u001b[0m \u001b[31m9.6 MB/s\u001b[0m eta \u001b[36m0:00:00\u001b[0m\n",
            "\u001b[?25hRequirement already satisfied: numpy in /usr/local/lib/python3.10/dist-packages (from control) (1.22.4)\n",
            "Requirement already satisfied: scipy>=1.3 in /usr/local/lib/python3.10/dist-packages (from control) (1.10.1)\n",
            "Requirement already satisfied: matplotlib in /usr/local/lib/python3.10/dist-packages (from control) (3.7.1)\n",
            "Requirement already satisfied: contourpy>=1.0.1 in /usr/local/lib/python3.10/dist-packages (from matplotlib->control) (1.1.0)\n",
            "Requirement already satisfied: cycler>=0.10 in /usr/local/lib/python3.10/dist-packages (from matplotlib->control) (0.11.0)\n",
            "Requirement already satisfied: fonttools>=4.22.0 in /usr/local/lib/python3.10/dist-packages (from matplotlib->control) (4.40.0)\n",
            "Requirement already satisfied: kiwisolver>=1.0.1 in /usr/local/lib/python3.10/dist-packages (from matplotlib->control) (1.4.4)\n",
            "Requirement already satisfied: packaging>=20.0 in /usr/local/lib/python3.10/dist-packages (from matplotlib->control) (23.1)\n",
            "Requirement already satisfied: pillow>=6.2.0 in /usr/local/lib/python3.10/dist-packages (from matplotlib->control) (8.4.0)\n",
            "Requirement already satisfied: pyparsing>=2.3.1 in /usr/local/lib/python3.10/dist-packages (from matplotlib->control) (3.1.0)\n",
            "Requirement already satisfied: python-dateutil>=2.7 in /usr/local/lib/python3.10/dist-packages (from matplotlib->control) (2.8.2)\n",
            "Requirement already satisfied: six>=1.5 in /usr/local/lib/python3.10/dist-packages (from python-dateutil>=2.7->matplotlib->control) (1.16.0)\n",
            "Installing collected packages: control\n",
            "Successfully installed control-0.9.4\n"
          ]
        }
      ]
    },
    {
      "cell_type": "code",
      "execution_count": 2,
      "metadata": {
        "colab": {
          "base_uri": "https://localhost:8080/"
        },
        "id": "mVNC2TtG_c5O",
        "outputId": "693d5bba-21c0-43d5-fa9c-d2587392f61c"
      },
      "outputs": [
        {
          "output_type": "stream",
          "name": "stdout",
          "text": [
            "f1max -0.004\n",
            "f1min -0.877\n",
            "f2max 3.024\n",
            "f2min 0.031\n",
            "Bv Shape (3, 1)\n",
            "[[0.         0.         0.        ]\n",
            " [0.         0.0283712  0.14492754]\n",
            " [0.81649658 0.06981732 0.35664516]]\n",
            "[[-11.1046241   -9.97248485  10.68198738]]\n",
            "P:  [[ 535.07464276 -134.6067102    -5.55231205]\n",
            " [-134.6067102   120.79316133   -4.98624243]\n",
            " [  -5.55231205   -4.98624243    5.34099369]]\n",
            "X:  [[-11.1046241   -9.97248485  10.68198738]]\n",
            "L:  [-3.96733921+0.j         -1.30791868+0.64430662j -1.30791868-0.64430662j]\n",
            "Kv:  [[-10.368686     8.20120841   0.22986416]]\n"
          ]
        }
      ],
      "source": [
        "\n",
        "f1 =  lambda angle, Vt, Pe: -(pow(Pe,2) * pow(xs,2) * cos(angle)) / (\n",
        "    Vt * pow(Vs,2) * pow(sin(angle),3)) - (xs * xd_t * Pe) / (Vt * xds_t * pow((sin(angle)),2));\n",
        "\n",
        "f2 = lambda angle, Vt, Pe: (Pe * pow(xs,2)) / (Vt * pow(Vs,2) * pow(sin(angle),2)) + (\n",
        "    xs * xd_t * cos(angle)) / (Vt * xds_t * (sin(angle)));\n",
        "\n",
        "\n",
        "\n",
        "f1max = -0.004\n",
        "f1min = -0.877\n",
        "\n",
        "f2max = 3.024\n",
        "f2min = 0.031\n",
        "\n",
        "\n",
        "#f1max = f1 (angle_max, Vt_max, Pe_min)\n",
        "#f1min = f1 (angle_min, Vt_min, Pe_max)\n",
        "\n",
        "#f2max = f2 (angle_min, Vt_min, Pe_max)\n",
        "#f2min = f2 (angle_max, Vt_min, Pe_min)\n",
        "\n",
        "f1_mean = 0.5 * (f1max + f1min);\n",
        "f2_mean = 0.5 * (f2max + f2min);\n",
        "\n",
        "\n",
        "print (\"f1max\", f1max)\n",
        "print (\"f1min\", f1min)\n",
        "\n",
        "print (\"f2max\", f2max)\n",
        "print (\"f2min\", f2min)\n",
        "Av = np.array ([[0, (-5 / (2 * 4)), (-w0/ (2 * 4))], [0, 0, (-1 / 6.9)], [0, f1_mean, (-f2_mean / Td0_t)]]);\n",
        "Bv = np.array ([[0], [(1 / Td0_t)], [(f2_mean / Td0_t)]]);\n",
        "D = (np.array([[0], [0], [1]]));\n",
        "E1 = np.array([[f1max-f1_mean], [0], [0]]);\n",
        "E2 = np.array([[0, -(f2max-f2_mean)/Td0_t , 0]]);\n",
        "\n",
        "print (\"Bv Shape\", np.shape(Bv))\n",
        "F = (f2max-f2_mean)/Td0_t;\n",
        "r1 = 1;\n",
        "lambda1 = 0.5;\n",
        "lambda2 = 0.5;\n",
        "epsilon = 2;\n",
        "\n",
        "A = Av - lambda2*(1/R)*F* Bv @ E2;\n",
        "\n",
        "B = np.array([sqrt(1/(lambda1+lambda2 * epsilon)) * D, sqrt (lambda2 / epsilon) * Bv * F, sqrt (2 / epsilon) * Bv])\n",
        "#B = np.array ([[0., 0., 0.], [0., 0.0283712, 0.14492754], [0.81649658, 0.06981732, 0.35664516]])\n",
        "B = np.array ([[0., 0., 0.], [0., 0.0283712, 0.14492754], [0.81649658, 0.06981732, 0.35664516]])\n",
        "print (B)\n",
        "#X  = mat.care(A, B, Q, R=None)[2]\n",
        "#Kv =np.array ([[0, 10.11, -30.81, -40.14]])\n",
        "\n",
        "P  = mat.care(A, B, Q, R=None)[0]\n",
        "L  = mat.care(A, B, Q, R=None)[1]\n",
        "X = (pow(r1,2)/lambda1) * D.T * P;\n",
        "print (X)\n",
        "print (\"P: \", P)\n",
        "print (\"X: \", X)\n",
        "print (\"L: \", L)\n",
        "\n",
        "Kv = Bv.T * P * 1 / epsilon;\n",
        "\n",
        "print (\"Kv: \", Kv);"
      ]
    },
    {
      "cell_type": "code",
      "source": [
        "print (f1 (angle_max, Vt_max, Pe_max))\n",
        "print (f1 (angle_min, Vt_max, Pe_max))\n",
        "print (f1 (angle_max, Vt_min, Pe_max))\n",
        "print (f1 (angle_min, Vt_min, Pe_max))\n",
        "print (f1 (angle_max, Vt_min, Pe_min))\n",
        "print (f1 (angle_min, Vt_min, Pe_min))\n",
        "print (f1 (angle_max, Vt_max, Pe_min))\n",
        "print (f1 (angle_min, Vt_max, Pe_min))\n",
        "\n",
        "\n",
        "print(\"f2\")\n",
        "print (f2 (angle_max, Vt_max, Pe_max))\n",
        "print (f2 (angle_min, Vt_max, Pe_max))\n",
        "print (f2 (angle_max, Vt_min, Pe_max))\n",
        "print (f2 (angle_min, Vt_min, Pe_max))\n",
        "print (f2 (angle_max, Vt_min, Pe_min))\n",
        "print (f2 (angle_min, Vt_min, Pe_min))\n",
        "print (f2 (angle_max, Vt_max, Pe_min))\n",
        "print (f2 (angle_min, Vt_max, Pe_min))\n",
        "\n"
      ],
      "metadata": {
        "colab": {
          "base_uri": "https://localhost:8080/"
        },
        "id": "_ksUY3cBZKs5",
        "outputId": "10893cd9-7aad-4ce8-d503-3e5bd71264f8"
      },
      "execution_count": 3,
      "outputs": [
        {
          "output_type": "stream",
          "name": "stdout",
          "text": [
            "-0.3086060641329128\n",
            "-25.809079807403137\n",
            "-0.4243333381827551\n",
            "-35.48748473517931\n",
            "-0.024881341829763374\n",
            "-0.5314940967837162\n",
            "-0.018095521330736997\n",
            "-0.3865411612972482\n",
            "f2\n",
            "-0.05019799988620624\n",
            "3.7544417764854985\n",
            "-0.06902224984353361\n",
            "5.1623574426675605\n",
            "-0.24065417126951058\n",
            "1.8221944455331203\n",
            "-0.17502121546873495\n",
            "1.3252323240240875\n"
          ]
        }
      ]
    }
  ]
}